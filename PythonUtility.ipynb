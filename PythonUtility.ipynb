{
 "cells": [
  {
   "cell_type": "code",
   "execution_count": null,
   "metadata": {},
   "outputs": [],
   "source": [
    "\n",
    "def univariate_pdf_numerical_feature(data , ylabel , column_name):\n",
    "    '''This function will do univariate analysis on the column based on the ylabel'''\n",
    "    sns.FacetGrid(data,hue=ylabel,size=4).map(sns.distplot,column_name).add_legend()\n",
    "    plt.ylabel(f'Probability density function of {column_name}')\n",
    "    plt.title(f\"PDF vs {column_name}\")\n",
    "#     plt.show()\n",
    "    return plt\n",
    "\n",
    "def cdr_pdf_graph_numerical_feature(data , ylabel , column_name, binary_value1 , binary_value2):\n",
    "    ''' This function create cdf and odf graph of bnary classification y labels'''\n",
    "    status_1 = data[data[ylabel] == binary_value1]\n",
    "    status_2 = data[dataylabel] == binary_value2]\n",
    "    counts,bins_edges= np.histogram(status_1[column_name],bins=30)\n",
    "    pdf = counts/sum(counts)\n",
    "    cdf = np.cumsum(pdf)\n",
    "    plt.plot(bins_edges[1:],pdf)\n",
    "    plt.plot(bins_edges[1:],cdf)\n",
    "    plt.annotate(xy=[65,.78],s = 'CDF')\n",
    "    plt.annotate(xy=[53,.15],s = 'PDF')\n",
    "    plt.xlabel(column_name)\n",
    "    plt.ylabel('Probabiltiy')\n",
    "    plt.title(f'probability vs {column_name} graph')\n",
    "#     plt.show()\n",
    "    return plt\n",
    "\n",
    "def univariate_barplots_catagorical _feature(data, col1, col2, top=False):\n",
    "    '''# Count number of zeros in dataframe python: https://stackoverflow.com/a/51540521/4084039'''\n",
    "    temp = pd.DataFrame(project_data.groupby(col1)[col2].agg(lambda x: x.eq(1).sum())).reset_index()\n",
    "    # Pandas dataframe grouby count: https://stackoverflow.com/a/19385591/4084039\n",
    "    temp['total'] = pd.DataFrame(project_data.groupby(col1)[col2].agg({'total':'count'})).reset_index()['total']\n",
    "    temp['Avg'] = pd.DataFrame(project_data.groupby(col1)[col2].agg({'Avg':'mean'})).reset_index()['Avg']\n",
    "    temp.sort_values(by=['total'],inplace=True, ascending=False)\n",
    "    if top:\n",
    "        temp = temp[0:top]\n",
    "    stack_plot(temp, xtick=col1, col2=col2, col3='total')\n",
    "    print(temp.head(5))\n",
    "    print(\"=\"*50)\n",
    "    print(temp.tail(5))"
   ]
  },
  {
   "cell_type": "code",
   "execution_count": null,
   "metadata": {},
   "outputs": [],
   "source": []
  },
  {
   "cell_type": "code",
   "execution_count": null,
   "metadata": {},
   "outputs": [],
   "source": []
  }
 ],
 "metadata": {
  "kernelspec": {
   "display_name": "Python 3",
   "language": "python",
   "name": "python3"
  },
  "language_info": {
   "codemirror_mode": {
    "name": "ipython",
    "version": 3
   },
   "file_extension": ".py",
   "mimetype": "text/x-python",
   "name": "python",
   "nbconvert_exporter": "python",
   "pygments_lexer": "ipython3",
   "version": "3.7.0"
  }
 },
 "nbformat": 4,
 "nbformat_minor": 2
}
